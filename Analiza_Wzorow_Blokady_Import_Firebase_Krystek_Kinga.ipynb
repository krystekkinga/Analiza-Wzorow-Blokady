{
  "nbformat": 4,
  "nbformat_minor": 0,
  "metadata": {
    "colab": {
      "provenance": []
    },
    "kernelspec": {
      "name": "python3",
      "display_name": "Python 3"
    },
    "language_info": {
      "name": "python"
    }
  },
  "cells": [
    {
      "cell_type": "markdown",
      "source": [
        "# ANALIZA WZORÓW BLOKADY TELEFONÓW KOMÓRKOWYCH - PRACA INŻYNIERSKA\n",
        "## KRYSTEK KINGA\n",
        "### POLITECHNIKA RZESZOWSKA\n",
        "### Import danych z Firebase Firestore"
      ],
      "metadata": {
        "id": "3etagdqKGTY6"
      }
    },
    {
      "cell_type": "markdown",
      "source": [
        "### 1. BIBLIOTEKI"
      ],
      "metadata": {
        "id": "AN-9jAqiGS8d"
      }
    },
    {
      "cell_type": "code",
      "execution_count": null,
      "metadata": {
        "id": "W4LSyzcDF5J6"
      },
      "outputs": [],
      "source": [
        "import firebase_admin\n",
        "from firebase_admin import credentials, firestore"
      ]
    },
    {
      "cell_type": "markdown",
      "source": [
        "### 2. LOKALNY IMPORT DANYCH Z FIREBASE FIRESTORE\n",
        "Zbiór danych został pobrany na urządzenie lokalne i zapisany w pliku CSV."
      ],
      "metadata": {
        "id": "dtKT-22AGdPc"
      }
    },
    {
      "cell_type": "code",
      "source": [
        "# Połączenie się z Firebase\n",
        "cred = credentials.Certificate(\"C:/Users/kinia/OneDrive/Pulpit/s t u d i a/PRACA INŻYNIERSKA/analiza python/patternlockapp-firebase-adminsdk-mkvcm-af422526b4.json\")\n",
        "firebase_admin.initialize_app(cred)\n",
        "\n",
        "# Połączenie z Firestore\n",
        "db = firestore.client()\n",
        "\n",
        "# Pobieranie danych z kolekcji\n",
        "docs = db.collection('users').stream()\n",
        "\n",
        "# Zapis danych do listy\n",
        "data = []\n",
        "for doc in docs:\n",
        "    data.append(doc.to_dict())\n",
        "\n",
        "# Zapisanie danych do pliku CSV\n",
        "df = pd.DataFrame(data)\n",
        "df.to_csv(\"C:/Users/kinia/OneDrive/Pulpit/s t u d i a/PRACA INŻYNIERSKA/analiza python/exported_data.csv\", index=False)\n",
        "\n",
        "print(\"Dane zapisane do exported_data.csv\")"
      ],
      "metadata": {
        "id": "b3OBM9fgGCut"
      },
      "execution_count": null,
      "outputs": []
    }
  ]
}